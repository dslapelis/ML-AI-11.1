{
 "cells": [
  {
   "cell_type": "markdown",
   "metadata": {},
   "source": [
    "# What drives the price of a car?\n",
    "\n",
    "![](images/kurt.jpeg)"
   ]
  },
  {
   "cell_type": "markdown",
   "metadata": {},
   "source": [
    "**OVERVIEW**\n",
    "\n",
    "In this application, you will explore a dataset from Kaggle. The original dataset contained information on 3 million used cars. The provided dataset contains information on 426K cars to ensure speed of processing.  Your goal is to understand what factors make a car more or less expensive.  As a result of your analysis, you should provide clear recommendations to your client -- a used car dealership -- as to what consumers value in a used car."
   ]
  },
  {
   "cell_type": "markdown",
   "metadata": {},
   "source": [
    "### CRISP-DM Framework\n",
    "\n",
    "<center>\n",
    "    <img src = images/crisp.png width = 50%/>\n",
    "</center>\n",
    "\n",
    "\n",
    "To frame the task, throughout our practical applications, we will refer back to a standard process in industry for data projects called CRISP-DM.  This process provides a framework for working through a data problem.  Your first step in this application will be to read through a brief overview of CRISP-DM [here](https://mo-pcco.s3.us-east-1.amazonaws.com/BH-PCMLAI/module_11/readings_starter.zip).  After reading the overview, answer the questions below."
   ]
  },
  {
   "cell_type": "markdown",
   "metadata": {},
   "source": [
    "### Business Understanding\n",
    "\n",
    "From a business perspective, we are tasked with identifying key drivers for used car prices.  In the CRISP-DM overview, we are asked to convert this business framing to a data problem definition.  Using a few sentences, reframe the task as a data task with the appropriate technical vocabulary."
   ]
  },
  {
   "cell_type": "markdown",
   "source": [
    "**Data Mining Goals:**\n",
    "- Develop a predictive model to determine which used vehicles by make, model, year, region, and condition sell for the highest sale price.\n",
    "- Identify the key factors that contribute to the used vehicle's sale price.\n",
    "- Quantify the impact that `year` and `mileage` have on the `price` of a vehicle.\n",
    "\n",
    "**Data Mining Success Criteria:**\n",
    "- The model achieves an accuracy of at least 90%\n",
    "\n",
    "**Data Mining Task:**\n",
    "**Objective**: Analyze historical sales data and car features (e.g., mileage, make, model, year, condition, location) to identify the factors and their respective influence on the final sale price of used cars.\n",
    "\n",
    "**Inputs:**\n",
    "- `year`\n",
    "- `manufacturer`\n",
    "- `model`\n",
    "- `odometer`\n",
    "- `condition`\n",
    "\n",
    "**Output:**\n",
    "- The predicted `price`, in dollars, of the vehicle"
   ],
   "metadata": {
    "collapsed": false
   }
  },
  {
   "cell_type": "markdown",
   "metadata": {},
   "source": [
    "### Data Understanding\n",
    "\n",
    "After considering the business understanding, we want to get familiar with our data.  Write down some steps that you would take to get to know the dataset and identify any quality issues within.  Take time to get to know the dataset and explore what information it contains and how this could be used to inform your business understanding."
   ]
  },
  {
   "cell_type": "markdown",
   "source": [
    "First, I would want to view what the columns of the data are, by utilizing the `.info()` method on the loaded DataFrame. I would also want to drop the rows that have null values for key factors of my data, such as `manufacturer`, `model`, `year`, `odometer` and `condition`. I would also want to filter out rows where the price is 0 or is a very large number, as these are not accurate values and will skew my model. I can drop the column `vin` because that will not be used at all in my research."
   ],
   "metadata": {
    "collapsed": false
   }
  },
  {
   "cell_type": "code",
   "execution_count": 43,
   "metadata": {},
   "outputs": [],
   "source": [
    "import pandas as pd\n",
    "data = pd.read_csv(\"data/vehicles.csv\")"
   ]
  },
  {
   "cell_type": "code",
   "execution_count": 15,
   "metadata": {},
   "outputs": [
    {
     "name": "stdout",
     "output_type": "stream",
     "text": [
      "<class 'pandas.core.frame.DataFrame'>\n",
      "RangeIndex: 426880 entries, 0 to 426879\n",
      "Data columns (total 18 columns):\n",
      " #   Column        Non-Null Count   Dtype  \n",
      "---  ------        --------------   -----  \n",
      " 0   id            426880 non-null  int64  \n",
      " 1   region        426880 non-null  object \n",
      " 2   price         426880 non-null  int64  \n",
      " 3   year          425675 non-null  float64\n",
      " 4   manufacturer  409234 non-null  object \n",
      " 5   model         421603 non-null  object \n",
      " 6   condition     252776 non-null  object \n",
      " 7   cylinders     249202 non-null  object \n",
      " 8   fuel          423867 non-null  object \n",
      " 9   odometer      422480 non-null  float64\n",
      " 10  title_status  418638 non-null  object \n",
      " 11  transmission  424324 non-null  object \n",
      " 12  VIN           265838 non-null  object \n",
      " 13  drive         296313 non-null  object \n",
      " 14  size          120519 non-null  object \n",
      " 15  type          334022 non-null  object \n",
      " 16  paint_color   296677 non-null  object \n",
      " 17  state         426880 non-null  object \n",
      "dtypes: float64(2), int64(2), object(14)\n",
      "memory usage: 58.6+ MB\n"
     ]
    }
   ],
   "source": [
    "data.info()"
   ]
  },
  {
   "cell_type": "code",
   "execution_count": 16,
   "metadata": {},
   "outputs": [
    {
     "data": {
      "text/plain": "            id                  region  price  year manufacturer model  \\\n0   7222695916                prescott   6000   NaN          NaN   NaN   \n1   7218891961            fayetteville  11900   NaN          NaN   NaN   \n2   7221797935            florida keys  21000   NaN          NaN   NaN   \n3   7222270760  worcester / central MA   1500   NaN          NaN   NaN   \n4   7210384030              greensboro   4900   NaN          NaN   NaN   \n5   7222379453           hudson valley   1600   NaN          NaN   NaN   \n6   7221952215           hudson valley   1000   NaN          NaN   NaN   \n7   7220195662           hudson valley  15995   NaN          NaN   NaN   \n8   7209064557         medford-ashland   5000   NaN          NaN   NaN   \n9   7219485069                    erie   3000   NaN          NaN   NaN   \n10  7218893038                 el paso      0   NaN          NaN   NaN   \n11  7218325704                 el paso      0   NaN          NaN   NaN   \n12  7217788283                 el paso      0   NaN          NaN   NaN   \n13  7217147606                 el paso      0   NaN          NaN   NaN   \n14  7209027818                 el paso      0   NaN          NaN   NaN   \n15  7223509794              bellingham  13995   NaN          NaN   NaN   \n16  7222753076              bellingham  24999   NaN          NaN   NaN   \n17  7222206015              bellingham  21850   NaN          NaN   NaN   \n18  7220030122              bellingham  26850   NaN          NaN   NaN   \n19  7218423006              bellingham  11999   NaN          NaN   NaN   \n20  7216672204              bellingham  24999   NaN          NaN   NaN   \n21  7215617048              bellingham  21850   NaN          NaN   NaN   \n22  7213839225              bellingham  26850   NaN          NaN   NaN   \n23  7208549803              bellingham  11999   NaN          NaN   NaN   \n24  7213843538   skagit / island / SJI  24999   NaN          NaN   NaN   \n\n   condition cylinders fuel  odometer title_status transmission  VIN drive  \\\n0        NaN       NaN  NaN       NaN          NaN          NaN  NaN   NaN   \n1        NaN       NaN  NaN       NaN          NaN          NaN  NaN   NaN   \n2        NaN       NaN  NaN       NaN          NaN          NaN  NaN   NaN   \n3        NaN       NaN  NaN       NaN          NaN          NaN  NaN   NaN   \n4        NaN       NaN  NaN       NaN          NaN          NaN  NaN   NaN   \n5        NaN       NaN  NaN       NaN          NaN          NaN  NaN   NaN   \n6        NaN       NaN  NaN       NaN          NaN          NaN  NaN   NaN   \n7        NaN       NaN  NaN       NaN          NaN          NaN  NaN   NaN   \n8        NaN       NaN  NaN       NaN          NaN          NaN  NaN   NaN   \n9        NaN       NaN  NaN       NaN          NaN          NaN  NaN   NaN   \n10       NaN       NaN  NaN       NaN          NaN          NaN  NaN   NaN   \n11       NaN       NaN  NaN       NaN          NaN          NaN  NaN   NaN   \n12       NaN       NaN  NaN       NaN          NaN          NaN  NaN   NaN   \n13       NaN       NaN  NaN       NaN          NaN          NaN  NaN   NaN   \n14       NaN       NaN  NaN       NaN          NaN          NaN  NaN   NaN   \n15       NaN       NaN  NaN       NaN          NaN          NaN  NaN   NaN   \n16       NaN       NaN  NaN       NaN          NaN          NaN  NaN   NaN   \n17       NaN       NaN  NaN       NaN          NaN          NaN  NaN   NaN   \n18       NaN       NaN  NaN       NaN          NaN          NaN  NaN   NaN   \n19       NaN       NaN  NaN       NaN          NaN          NaN  NaN   NaN   \n20       NaN       NaN  NaN       NaN          NaN          NaN  NaN   NaN   \n21       NaN       NaN  NaN       NaN          NaN          NaN  NaN   NaN   \n22       NaN       NaN  NaN       NaN          NaN          NaN  NaN   NaN   \n23       NaN       NaN  NaN       NaN          NaN          NaN  NaN   NaN   \n24       NaN       NaN  NaN       NaN          NaN          NaN  NaN   NaN   \n\n   size type paint_color state  \n0   NaN  NaN         NaN    az  \n1   NaN  NaN         NaN    ar  \n2   NaN  NaN         NaN    fl  \n3   NaN  NaN         NaN    ma  \n4   NaN  NaN         NaN    nc  \n5   NaN  NaN         NaN    ny  \n6   NaN  NaN         NaN    ny  \n7   NaN  NaN         NaN    ny  \n8   NaN  NaN         NaN    or  \n9   NaN  NaN         NaN    pa  \n10  NaN  NaN         NaN    tx  \n11  NaN  NaN         NaN    tx  \n12  NaN  NaN         NaN    tx  \n13  NaN  NaN         NaN    tx  \n14  NaN  NaN         NaN    tx  \n15  NaN  NaN         NaN    wa  \n16  NaN  NaN         NaN    wa  \n17  NaN  NaN         NaN    wa  \n18  NaN  NaN         NaN    wa  \n19  NaN  NaN         NaN    wa  \n20  NaN  NaN         NaN    wa  \n21  NaN  NaN         NaN    wa  \n22  NaN  NaN         NaN    wa  \n23  NaN  NaN         NaN    wa  \n24  NaN  NaN         NaN    wa  ",
      "text/html": "<div>\n<style scoped>\n    .dataframe tbody tr th:only-of-type {\n        vertical-align: middle;\n    }\n\n    .dataframe tbody tr th {\n        vertical-align: top;\n    }\n\n    .dataframe thead th {\n        text-align: right;\n    }\n</style>\n<table border=\"1\" class=\"dataframe\">\n  <thead>\n    <tr style=\"text-align: right;\">\n      <th></th>\n      <th>id</th>\n      <th>region</th>\n      <th>price</th>\n      <th>year</th>\n      <th>manufacturer</th>\n      <th>model</th>\n      <th>condition</th>\n      <th>cylinders</th>\n      <th>fuel</th>\n      <th>odometer</th>\n      <th>title_status</th>\n      <th>transmission</th>\n      <th>VIN</th>\n      <th>drive</th>\n      <th>size</th>\n      <th>type</th>\n      <th>paint_color</th>\n      <th>state</th>\n    </tr>\n  </thead>\n  <tbody>\n    <tr>\n      <th>0</th>\n      <td>7222695916</td>\n      <td>prescott</td>\n      <td>6000</td>\n      <td>NaN</td>\n      <td>NaN</td>\n      <td>NaN</td>\n      <td>NaN</td>\n      <td>NaN</td>\n      <td>NaN</td>\n      <td>NaN</td>\n      <td>NaN</td>\n      <td>NaN</td>\n      <td>NaN</td>\n      <td>NaN</td>\n      <td>NaN</td>\n      <td>NaN</td>\n      <td>NaN</td>\n      <td>az</td>\n    </tr>\n    <tr>\n      <th>1</th>\n      <td>7218891961</td>\n      <td>fayetteville</td>\n      <td>11900</td>\n      <td>NaN</td>\n      <td>NaN</td>\n      <td>NaN</td>\n      <td>NaN</td>\n      <td>NaN</td>\n      <td>NaN</td>\n      <td>NaN</td>\n      <td>NaN</td>\n      <td>NaN</td>\n      <td>NaN</td>\n      <td>NaN</td>\n      <td>NaN</td>\n      <td>NaN</td>\n      <td>NaN</td>\n      <td>ar</td>\n    </tr>\n    <tr>\n      <th>2</th>\n      <td>7221797935</td>\n      <td>florida keys</td>\n      <td>21000</td>\n      <td>NaN</td>\n      <td>NaN</td>\n      <td>NaN</td>\n      <td>NaN</td>\n      <td>NaN</td>\n      <td>NaN</td>\n      <td>NaN</td>\n      <td>NaN</td>\n      <td>NaN</td>\n      <td>NaN</td>\n      <td>NaN</td>\n      <td>NaN</td>\n      <td>NaN</td>\n      <td>NaN</td>\n      <td>fl</td>\n    </tr>\n    <tr>\n      <th>3</th>\n      <td>7222270760</td>\n      <td>worcester / central MA</td>\n      <td>1500</td>\n      <td>NaN</td>\n      <td>NaN</td>\n      <td>NaN</td>\n      <td>NaN</td>\n      <td>NaN</td>\n      <td>NaN</td>\n      <td>NaN</td>\n      <td>NaN</td>\n      <td>NaN</td>\n      <td>NaN</td>\n      <td>NaN</td>\n      <td>NaN</td>\n      <td>NaN</td>\n      <td>NaN</td>\n      <td>ma</td>\n    </tr>\n    <tr>\n      <th>4</th>\n      <td>7210384030</td>\n      <td>greensboro</td>\n      <td>4900</td>\n      <td>NaN</td>\n      <td>NaN</td>\n      <td>NaN</td>\n      <td>NaN</td>\n      <td>NaN</td>\n      <td>NaN</td>\n      <td>NaN</td>\n      <td>NaN</td>\n      <td>NaN</td>\n      <td>NaN</td>\n      <td>NaN</td>\n      <td>NaN</td>\n      <td>NaN</td>\n      <td>NaN</td>\n      <td>nc</td>\n    </tr>\n    <tr>\n      <th>5</th>\n      <td>7222379453</td>\n      <td>hudson valley</td>\n      <td>1600</td>\n      <td>NaN</td>\n      <td>NaN</td>\n      <td>NaN</td>\n      <td>NaN</td>\n      <td>NaN</td>\n      <td>NaN</td>\n      <td>NaN</td>\n      <td>NaN</td>\n      <td>NaN</td>\n      <td>NaN</td>\n      <td>NaN</td>\n      <td>NaN</td>\n      <td>NaN</td>\n      <td>NaN</td>\n      <td>ny</td>\n    </tr>\n    <tr>\n      <th>6</th>\n      <td>7221952215</td>\n      <td>hudson valley</td>\n      <td>1000</td>\n      <td>NaN</td>\n      <td>NaN</td>\n      <td>NaN</td>\n      <td>NaN</td>\n      <td>NaN</td>\n      <td>NaN</td>\n      <td>NaN</td>\n      <td>NaN</td>\n      <td>NaN</td>\n      <td>NaN</td>\n      <td>NaN</td>\n      <td>NaN</td>\n      <td>NaN</td>\n      <td>NaN</td>\n      <td>ny</td>\n    </tr>\n    <tr>\n      <th>7</th>\n      <td>7220195662</td>\n      <td>hudson valley</td>\n      <td>15995</td>\n      <td>NaN</td>\n      <td>NaN</td>\n      <td>NaN</td>\n      <td>NaN</td>\n      <td>NaN</td>\n      <td>NaN</td>\n      <td>NaN</td>\n      <td>NaN</td>\n      <td>NaN</td>\n      <td>NaN</td>\n      <td>NaN</td>\n      <td>NaN</td>\n      <td>NaN</td>\n      <td>NaN</td>\n      <td>ny</td>\n    </tr>\n    <tr>\n      <th>8</th>\n      <td>7209064557</td>\n      <td>medford-ashland</td>\n      <td>5000</td>\n      <td>NaN</td>\n      <td>NaN</td>\n      <td>NaN</td>\n      <td>NaN</td>\n      <td>NaN</td>\n      <td>NaN</td>\n      <td>NaN</td>\n      <td>NaN</td>\n      <td>NaN</td>\n      <td>NaN</td>\n      <td>NaN</td>\n      <td>NaN</td>\n      <td>NaN</td>\n      <td>NaN</td>\n      <td>or</td>\n    </tr>\n    <tr>\n      <th>9</th>\n      <td>7219485069</td>\n      <td>erie</td>\n      <td>3000</td>\n      <td>NaN</td>\n      <td>NaN</td>\n      <td>NaN</td>\n      <td>NaN</td>\n      <td>NaN</td>\n      <td>NaN</td>\n      <td>NaN</td>\n      <td>NaN</td>\n      <td>NaN</td>\n      <td>NaN</td>\n      <td>NaN</td>\n      <td>NaN</td>\n      <td>NaN</td>\n      <td>NaN</td>\n      <td>pa</td>\n    </tr>\n    <tr>\n      <th>10</th>\n      <td>7218893038</td>\n      <td>el paso</td>\n      <td>0</td>\n      <td>NaN</td>\n      <td>NaN</td>\n      <td>NaN</td>\n      <td>NaN</td>\n      <td>NaN</td>\n      <td>NaN</td>\n      <td>NaN</td>\n      <td>NaN</td>\n      <td>NaN</td>\n      <td>NaN</td>\n      <td>NaN</td>\n      <td>NaN</td>\n      <td>NaN</td>\n      <td>NaN</td>\n      <td>tx</td>\n    </tr>\n    <tr>\n      <th>11</th>\n      <td>7218325704</td>\n      <td>el paso</td>\n      <td>0</td>\n      <td>NaN</td>\n      <td>NaN</td>\n      <td>NaN</td>\n      <td>NaN</td>\n      <td>NaN</td>\n      <td>NaN</td>\n      <td>NaN</td>\n      <td>NaN</td>\n      <td>NaN</td>\n      <td>NaN</td>\n      <td>NaN</td>\n      <td>NaN</td>\n      <td>NaN</td>\n      <td>NaN</td>\n      <td>tx</td>\n    </tr>\n    <tr>\n      <th>12</th>\n      <td>7217788283</td>\n      <td>el paso</td>\n      <td>0</td>\n      <td>NaN</td>\n      <td>NaN</td>\n      <td>NaN</td>\n      <td>NaN</td>\n      <td>NaN</td>\n      <td>NaN</td>\n      <td>NaN</td>\n      <td>NaN</td>\n      <td>NaN</td>\n      <td>NaN</td>\n      <td>NaN</td>\n      <td>NaN</td>\n      <td>NaN</td>\n      <td>NaN</td>\n      <td>tx</td>\n    </tr>\n    <tr>\n      <th>13</th>\n      <td>7217147606</td>\n      <td>el paso</td>\n      <td>0</td>\n      <td>NaN</td>\n      <td>NaN</td>\n      <td>NaN</td>\n      <td>NaN</td>\n      <td>NaN</td>\n      <td>NaN</td>\n      <td>NaN</td>\n      <td>NaN</td>\n      <td>NaN</td>\n      <td>NaN</td>\n      <td>NaN</td>\n      <td>NaN</td>\n      <td>NaN</td>\n      <td>NaN</td>\n      <td>tx</td>\n    </tr>\n    <tr>\n      <th>14</th>\n      <td>7209027818</td>\n      <td>el paso</td>\n      <td>0</td>\n      <td>NaN</td>\n      <td>NaN</td>\n      <td>NaN</td>\n      <td>NaN</td>\n      <td>NaN</td>\n      <td>NaN</td>\n      <td>NaN</td>\n      <td>NaN</td>\n      <td>NaN</td>\n      <td>NaN</td>\n      <td>NaN</td>\n      <td>NaN</td>\n      <td>NaN</td>\n      <td>NaN</td>\n      <td>tx</td>\n    </tr>\n    <tr>\n      <th>15</th>\n      <td>7223509794</td>\n      <td>bellingham</td>\n      <td>13995</td>\n      <td>NaN</td>\n      <td>NaN</td>\n      <td>NaN</td>\n      <td>NaN</td>\n      <td>NaN</td>\n      <td>NaN</td>\n      <td>NaN</td>\n      <td>NaN</td>\n      <td>NaN</td>\n      <td>NaN</td>\n      <td>NaN</td>\n      <td>NaN</td>\n      <td>NaN</td>\n      <td>NaN</td>\n      <td>wa</td>\n    </tr>\n    <tr>\n      <th>16</th>\n      <td>7222753076</td>\n      <td>bellingham</td>\n      <td>24999</td>\n      <td>NaN</td>\n      <td>NaN</td>\n      <td>NaN</td>\n      <td>NaN</td>\n      <td>NaN</td>\n      <td>NaN</td>\n      <td>NaN</td>\n      <td>NaN</td>\n      <td>NaN</td>\n      <td>NaN</td>\n      <td>NaN</td>\n      <td>NaN</td>\n      <td>NaN</td>\n      <td>NaN</td>\n      <td>wa</td>\n    </tr>\n    <tr>\n      <th>17</th>\n      <td>7222206015</td>\n      <td>bellingham</td>\n      <td>21850</td>\n      <td>NaN</td>\n      <td>NaN</td>\n      <td>NaN</td>\n      <td>NaN</td>\n      <td>NaN</td>\n      <td>NaN</td>\n      <td>NaN</td>\n      <td>NaN</td>\n      <td>NaN</td>\n      <td>NaN</td>\n      <td>NaN</td>\n      <td>NaN</td>\n      <td>NaN</td>\n      <td>NaN</td>\n      <td>wa</td>\n    </tr>\n    <tr>\n      <th>18</th>\n      <td>7220030122</td>\n      <td>bellingham</td>\n      <td>26850</td>\n      <td>NaN</td>\n      <td>NaN</td>\n      <td>NaN</td>\n      <td>NaN</td>\n      <td>NaN</td>\n      <td>NaN</td>\n      <td>NaN</td>\n      <td>NaN</td>\n      <td>NaN</td>\n      <td>NaN</td>\n      <td>NaN</td>\n      <td>NaN</td>\n      <td>NaN</td>\n      <td>NaN</td>\n      <td>wa</td>\n    </tr>\n    <tr>\n      <th>19</th>\n      <td>7218423006</td>\n      <td>bellingham</td>\n      <td>11999</td>\n      <td>NaN</td>\n      <td>NaN</td>\n      <td>NaN</td>\n      <td>NaN</td>\n      <td>NaN</td>\n      <td>NaN</td>\n      <td>NaN</td>\n      <td>NaN</td>\n      <td>NaN</td>\n      <td>NaN</td>\n      <td>NaN</td>\n      <td>NaN</td>\n      <td>NaN</td>\n      <td>NaN</td>\n      <td>wa</td>\n    </tr>\n    <tr>\n      <th>20</th>\n      <td>7216672204</td>\n      <td>bellingham</td>\n      <td>24999</td>\n      <td>NaN</td>\n      <td>NaN</td>\n      <td>NaN</td>\n      <td>NaN</td>\n      <td>NaN</td>\n      <td>NaN</td>\n      <td>NaN</td>\n      <td>NaN</td>\n      <td>NaN</td>\n      <td>NaN</td>\n      <td>NaN</td>\n      <td>NaN</td>\n      <td>NaN</td>\n      <td>NaN</td>\n      <td>wa</td>\n    </tr>\n    <tr>\n      <th>21</th>\n      <td>7215617048</td>\n      <td>bellingham</td>\n      <td>21850</td>\n      <td>NaN</td>\n      <td>NaN</td>\n      <td>NaN</td>\n      <td>NaN</td>\n      <td>NaN</td>\n      <td>NaN</td>\n      <td>NaN</td>\n      <td>NaN</td>\n      <td>NaN</td>\n      <td>NaN</td>\n      <td>NaN</td>\n      <td>NaN</td>\n      <td>NaN</td>\n      <td>NaN</td>\n      <td>wa</td>\n    </tr>\n    <tr>\n      <th>22</th>\n      <td>7213839225</td>\n      <td>bellingham</td>\n      <td>26850</td>\n      <td>NaN</td>\n      <td>NaN</td>\n      <td>NaN</td>\n      <td>NaN</td>\n      <td>NaN</td>\n      <td>NaN</td>\n      <td>NaN</td>\n      <td>NaN</td>\n      <td>NaN</td>\n      <td>NaN</td>\n      <td>NaN</td>\n      <td>NaN</td>\n      <td>NaN</td>\n      <td>NaN</td>\n      <td>wa</td>\n    </tr>\n    <tr>\n      <th>23</th>\n      <td>7208549803</td>\n      <td>bellingham</td>\n      <td>11999</td>\n      <td>NaN</td>\n      <td>NaN</td>\n      <td>NaN</td>\n      <td>NaN</td>\n      <td>NaN</td>\n      <td>NaN</td>\n      <td>NaN</td>\n      <td>NaN</td>\n      <td>NaN</td>\n      <td>NaN</td>\n      <td>NaN</td>\n      <td>NaN</td>\n      <td>NaN</td>\n      <td>NaN</td>\n      <td>wa</td>\n    </tr>\n    <tr>\n      <th>24</th>\n      <td>7213843538</td>\n      <td>skagit / island / SJI</td>\n      <td>24999</td>\n      <td>NaN</td>\n      <td>NaN</td>\n      <td>NaN</td>\n      <td>NaN</td>\n      <td>NaN</td>\n      <td>NaN</td>\n      <td>NaN</td>\n      <td>NaN</td>\n      <td>NaN</td>\n      <td>NaN</td>\n      <td>NaN</td>\n      <td>NaN</td>\n      <td>NaN</td>\n      <td>NaN</td>\n      <td>wa</td>\n    </tr>\n  </tbody>\n</table>\n</div>"
     },
     "execution_count": 16,
     "metadata": {},
     "output_type": "execute_result"
    }
   ],
   "source": [
    "data.head(25)"
   ]
  },
  {
   "cell_type": "code",
   "execution_count": 33,
   "metadata": {},
   "outputs": [
    {
     "data": {
      "text/plain": "price\n1234567       13\n1000000        7\n123456789      6\n12345678       6\n1111111        5\n987654321      2\n3024942282     2\n3736928711     2\n777777         2\n1111111111     2\n990000         1\n655000         1\n2000000        1\n3009548743     1\n99999999       1\n566567         1\n17000000       1\n516999         1\n6995495        1\n135008900      1\n1234567890     1\n1410065407     1\n554900         1\n1666666        1\n5000000        1\n113456789      1\n10004000       1\n3226714        1\n11111111       1\n25003000       1\n999999         1\nName: count, dtype: int64"
     },
     "execution_count": 33,
     "metadata": {},
     "output_type": "execute_result"
    }
   ],
   "source": [
    "# Vehicles with a price greater than $500,000\n",
    "high_price_values = data[data[\"price\"] >= 500000][\"price\"]\n",
    "high_price_values.value_counts()"
   ]
  },
  {
   "cell_type": "code",
   "execution_count": 34,
   "outputs": [
    {
     "data": {
      "text/plain": "price\n0    32895\nName: count, dtype: int64"
     },
     "execution_count": 34,
     "metadata": {},
     "output_type": "execute_result"
    }
   ],
   "source": [
    "# Vehicles with a price of 0 or less\n",
    "zero_price_values = data[data[\"price\"] <= 0][\"price\"]\n",
    "zero_price_values.value_counts()"
   ],
   "metadata": {
    "collapsed": false
   }
  },
  {
   "cell_type": "code",
   "execution_count": 35,
   "outputs": [
    {
     "data": {
      "text/plain": "                id                  region  price    year manufacturer  \\\n0       7222695916                prescott   6000     NaN          NaN   \n1       7218891961            fayetteville  11900     NaN          NaN   \n2       7221797935            florida keys  21000     NaN          NaN   \n3       7222270760  worcester / central MA   1500     NaN          NaN   \n4       7210384030              greensboro   4900     NaN          NaN   \n...            ...                     ...    ...     ...          ...   \n426855  7302100739                 wyoming   7477  2012.0         fiat   \n426856  7302099628                 wyoming   5477  2003.0       nissan   \n426862  7301950980                 wyoming  27590  2018.0          NaN   \n426863  7301949724                 wyoming  25590  2017.0          NaN   \n426869  7301592693                 wyoming  13990  2016.0          NaN   \n\n                           model condition    cylinders   fuel  odometer  \\\n0                            NaN       NaN          NaN    NaN       NaN   \n1                            NaN       NaN          NaN    NaN       NaN   \n2                            NaN       NaN          NaN    NaN       NaN   \n3                            NaN       NaN          NaN    NaN       NaN   \n4                            NaN       NaN          NaN    NaN       NaN   \n...                          ...       ...          ...    ...       ...   \n426855                       500       NaN          NaN    gas   64267.0   \n426856                    murano       NaN          NaN    gas  168055.0   \n426862  Genesis G80 3.8 Sedan 4D      good  6 cylinders    gas   36138.0   \n426863  Genesis G80 3.8 Sedan 4D      good  6 cylinders    gas   37608.0   \n426869     Scion iM Hatchback 4D      good          NaN  other   75626.0   \n\n       title_status transmission                VIN drive size       type  \\\n0               NaN          NaN                NaN   NaN  NaN        NaN   \n1               NaN          NaN                NaN   NaN  NaN        NaN   \n2               NaN          NaN                NaN   NaN  NaN        NaN   \n3               NaN          NaN                NaN   NaN  NaN        NaN   \n4               NaN          NaN                NaN   NaN  NaN        NaN   \n...             ...          ...                ...   ...  ...        ...   \n426855        clean       manual  3C3CFFBRXCT171831   NaN  NaN  hatchback   \n426856        clean    automatic  JN8AZ08W03W203477   NaN  NaN        SUV   \n426862        clean        other  KMHGN4JE4JU248193   NaN  NaN      sedan   \n426863        clean    automatic  KMHGN4JE2HU183838   rwd  NaN      sedan   \n426869        clean        other  JTNKARJE8GJ511296   fwd  NaN  hatchback   \n\n       paint_color state  \n0              NaN    az  \n1              NaN    ar  \n2              NaN    fl  \n3              NaN    ma  \n4              NaN    nc  \n...            ...   ...  \n426855         NaN    wy  \n426856        blue    wy  \n426862       black    wy  \n426863       white    wy  \n426869       white    wy  \n\n[189080 rows x 18 columns]",
      "text/html": "<div>\n<style scoped>\n    .dataframe tbody tr th:only-of-type {\n        vertical-align: middle;\n    }\n\n    .dataframe tbody tr th {\n        vertical-align: top;\n    }\n\n    .dataframe thead th {\n        text-align: right;\n    }\n</style>\n<table border=\"1\" class=\"dataframe\">\n  <thead>\n    <tr style=\"text-align: right;\">\n      <th></th>\n      <th>id</th>\n      <th>region</th>\n      <th>price</th>\n      <th>year</th>\n      <th>manufacturer</th>\n      <th>model</th>\n      <th>condition</th>\n      <th>cylinders</th>\n      <th>fuel</th>\n      <th>odometer</th>\n      <th>title_status</th>\n      <th>transmission</th>\n      <th>VIN</th>\n      <th>drive</th>\n      <th>size</th>\n      <th>type</th>\n      <th>paint_color</th>\n      <th>state</th>\n    </tr>\n  </thead>\n  <tbody>\n    <tr>\n      <th>0</th>\n      <td>7222695916</td>\n      <td>prescott</td>\n      <td>6000</td>\n      <td>NaN</td>\n      <td>NaN</td>\n      <td>NaN</td>\n      <td>NaN</td>\n      <td>NaN</td>\n      <td>NaN</td>\n      <td>NaN</td>\n      <td>NaN</td>\n      <td>NaN</td>\n      <td>NaN</td>\n      <td>NaN</td>\n      <td>NaN</td>\n      <td>NaN</td>\n      <td>NaN</td>\n      <td>az</td>\n    </tr>\n    <tr>\n      <th>1</th>\n      <td>7218891961</td>\n      <td>fayetteville</td>\n      <td>11900</td>\n      <td>NaN</td>\n      <td>NaN</td>\n      <td>NaN</td>\n      <td>NaN</td>\n      <td>NaN</td>\n      <td>NaN</td>\n      <td>NaN</td>\n      <td>NaN</td>\n      <td>NaN</td>\n      <td>NaN</td>\n      <td>NaN</td>\n      <td>NaN</td>\n      <td>NaN</td>\n      <td>NaN</td>\n      <td>ar</td>\n    </tr>\n    <tr>\n      <th>2</th>\n      <td>7221797935</td>\n      <td>florida keys</td>\n      <td>21000</td>\n      <td>NaN</td>\n      <td>NaN</td>\n      <td>NaN</td>\n      <td>NaN</td>\n      <td>NaN</td>\n      <td>NaN</td>\n      <td>NaN</td>\n      <td>NaN</td>\n      <td>NaN</td>\n      <td>NaN</td>\n      <td>NaN</td>\n      <td>NaN</td>\n      <td>NaN</td>\n      <td>NaN</td>\n      <td>fl</td>\n    </tr>\n    <tr>\n      <th>3</th>\n      <td>7222270760</td>\n      <td>worcester / central MA</td>\n      <td>1500</td>\n      <td>NaN</td>\n      <td>NaN</td>\n      <td>NaN</td>\n      <td>NaN</td>\n      <td>NaN</td>\n      <td>NaN</td>\n      <td>NaN</td>\n      <td>NaN</td>\n      <td>NaN</td>\n      <td>NaN</td>\n      <td>NaN</td>\n      <td>NaN</td>\n      <td>NaN</td>\n      <td>NaN</td>\n      <td>ma</td>\n    </tr>\n    <tr>\n      <th>4</th>\n      <td>7210384030</td>\n      <td>greensboro</td>\n      <td>4900</td>\n      <td>NaN</td>\n      <td>NaN</td>\n      <td>NaN</td>\n      <td>NaN</td>\n      <td>NaN</td>\n      <td>NaN</td>\n      <td>NaN</td>\n      <td>NaN</td>\n      <td>NaN</td>\n      <td>NaN</td>\n      <td>NaN</td>\n      <td>NaN</td>\n      <td>NaN</td>\n      <td>NaN</td>\n      <td>nc</td>\n    </tr>\n    <tr>\n      <th>...</th>\n      <td>...</td>\n      <td>...</td>\n      <td>...</td>\n      <td>...</td>\n      <td>...</td>\n      <td>...</td>\n      <td>...</td>\n      <td>...</td>\n      <td>...</td>\n      <td>...</td>\n      <td>...</td>\n      <td>...</td>\n      <td>...</td>\n      <td>...</td>\n      <td>...</td>\n      <td>...</td>\n      <td>...</td>\n      <td>...</td>\n    </tr>\n    <tr>\n      <th>426855</th>\n      <td>7302100739</td>\n      <td>wyoming</td>\n      <td>7477</td>\n      <td>2012.0</td>\n      <td>fiat</td>\n      <td>500</td>\n      <td>NaN</td>\n      <td>NaN</td>\n      <td>gas</td>\n      <td>64267.0</td>\n      <td>clean</td>\n      <td>manual</td>\n      <td>3C3CFFBRXCT171831</td>\n      <td>NaN</td>\n      <td>NaN</td>\n      <td>hatchback</td>\n      <td>NaN</td>\n      <td>wy</td>\n    </tr>\n    <tr>\n      <th>426856</th>\n      <td>7302099628</td>\n      <td>wyoming</td>\n      <td>5477</td>\n      <td>2003.0</td>\n      <td>nissan</td>\n      <td>murano</td>\n      <td>NaN</td>\n      <td>NaN</td>\n      <td>gas</td>\n      <td>168055.0</td>\n      <td>clean</td>\n      <td>automatic</td>\n      <td>JN8AZ08W03W203477</td>\n      <td>NaN</td>\n      <td>NaN</td>\n      <td>SUV</td>\n      <td>blue</td>\n      <td>wy</td>\n    </tr>\n    <tr>\n      <th>426862</th>\n      <td>7301950980</td>\n      <td>wyoming</td>\n      <td>27590</td>\n      <td>2018.0</td>\n      <td>NaN</td>\n      <td>Genesis G80 3.8 Sedan 4D</td>\n      <td>good</td>\n      <td>6 cylinders</td>\n      <td>gas</td>\n      <td>36138.0</td>\n      <td>clean</td>\n      <td>other</td>\n      <td>KMHGN4JE4JU248193</td>\n      <td>NaN</td>\n      <td>NaN</td>\n      <td>sedan</td>\n      <td>black</td>\n      <td>wy</td>\n    </tr>\n    <tr>\n      <th>426863</th>\n      <td>7301949724</td>\n      <td>wyoming</td>\n      <td>25590</td>\n      <td>2017.0</td>\n      <td>NaN</td>\n      <td>Genesis G80 3.8 Sedan 4D</td>\n      <td>good</td>\n      <td>6 cylinders</td>\n      <td>gas</td>\n      <td>37608.0</td>\n      <td>clean</td>\n      <td>automatic</td>\n      <td>KMHGN4JE2HU183838</td>\n      <td>rwd</td>\n      <td>NaN</td>\n      <td>sedan</td>\n      <td>white</td>\n      <td>wy</td>\n    </tr>\n    <tr>\n      <th>426869</th>\n      <td>7301592693</td>\n      <td>wyoming</td>\n      <td>13990</td>\n      <td>2016.0</td>\n      <td>NaN</td>\n      <td>Scion iM Hatchback 4D</td>\n      <td>good</td>\n      <td>NaN</td>\n      <td>other</td>\n      <td>75626.0</td>\n      <td>clean</td>\n      <td>other</td>\n      <td>JTNKARJE8GJ511296</td>\n      <td>fwd</td>\n      <td>NaN</td>\n      <td>hatchback</td>\n      <td>white</td>\n      <td>wy</td>\n    </tr>\n  </tbody>\n</table>\n<p>189080 rows × 18 columns</p>\n</div>"
     },
     "execution_count": 35,
     "metadata": {},
     "output_type": "execute_result"
    }
   ],
   "source": [
    "model_columns = [\"year\", \"manufacturer\", \"model\", \"odometer\", \"price\", \"condition\"]\n",
    "null_values = data[data[model_columns].isnull().any(axis=1)]\n",
    "null_values"
   ],
   "metadata": {
    "collapsed": false
   }
  },
  {
   "cell_type": "markdown",
   "metadata": {},
   "source": [
    "\n",
    "### Data Preparation\n",
    "\n",
    "After our initial exploration and fine-tuning of the business understanding, it is time to construct our final dataset prior to modeling.  Here, we want to make sure to handle any integrity issues and cleaning, the engineering of new features, any transformations that we believe should happen (scaling, logarithms, normalization, etc.), and general preparation for modeling with `sklearn`. "
   ]
  },
  {
   "cell_type": "code",
   "execution_count": 44,
   "metadata": {},
   "outputs": [],
   "source": [
    "# Clean it up\n",
    "data = data.drop(null_values.index)"
   ]
  },
  {
   "cell_type": "code",
   "execution_count": 45,
   "metadata": {},
   "outputs": [
    {
     "data": {
      "text/plain": "                id   region  price    year manufacturer  \\\n27      7316814884   auburn  33590  2014.0          gmc   \n28      7316814758   auburn  22590  2010.0    chevrolet   \n29      7316814989   auburn  39590  2020.0    chevrolet   \n30      7316743432   auburn  30990  2017.0       toyota   \n31      7316356412   auburn  15000  2013.0         ford   \n...            ...      ...    ...     ...          ...   \n426875  7301591192  wyoming  23590  2019.0       nissan   \n426876  7301591187  wyoming  30590  2020.0        volvo   \n426877  7301591147  wyoming  34990  2020.0     cadillac   \n426878  7301591140  wyoming  28990  2018.0        lexus   \n426879  7301591129  wyoming  30590  2019.0          bmw   \n\n                           model  condition    cylinders    fuel  odometer  \\\n27      sierra 1500 crew cab slt       good  8 cylinders     gas   57923.0   \n28                silverado 1500       good  8 cylinders     gas   71229.0   \n29           silverado 1500 crew       good  8 cylinders     gas   19160.0   \n30          tundra double cab sr       good  8 cylinders     gas   41124.0   \n31                     f-150 xlt  excellent  6 cylinders     gas  128000.0   \n...                          ...        ...          ...     ...       ...   \n426875         maxima s sedan 4d       good  6 cylinders     gas   32226.0   \n426876  s60 t5 momentum sedan 4d       good          NaN     gas   12029.0   \n426877          xt4 sport suv 4d       good          NaN  diesel    4174.0   \n426878           es 350 sedan 4d       good  6 cylinders     gas   30112.0   \n426879  4 series 430i gran coupe       good          NaN     gas   22716.0   \n\n       title_status transmission                VIN drive       size  \\\n27            clean        other  3GTP1VEC4EG551563   NaN        NaN   \n28            clean        other  1GCSCSE06AZ123805   NaN        NaN   \n29            clean        other  3GCPWCED5LG130317   NaN        NaN   \n30            clean        other  5TFRM5F17HX120972   NaN        NaN   \n31            clean    automatic                NaN   rwd  full-size   \n...             ...          ...                ...   ...        ...   \n426875        clean        other  1N4AA6AV6KC367801   fwd        NaN   \n426876        clean        other  7JR102FKXLG042696   fwd        NaN   \n426877        clean        other  1GYFZFR46LF088296   NaN        NaN   \n426878        clean        other  58ABK1GG4JU103853   fwd        NaN   \n426879        clean        other  WBA4J1C58KBM14708   rwd        NaN   \n\n             type paint_color state  \n27         pickup       white    al  \n28         pickup        blue    al  \n29         pickup         red    al  \n30         pickup         red    al  \n31          truck       black    al  \n...           ...         ...   ...  \n426875      sedan         NaN    wy  \n426876      sedan         red    wy  \n426877  hatchback       white    wy  \n426878      sedan      silver    wy  \n426879      coupe         NaN    wy  \n\n[228547 rows x 18 columns]",
      "text/html": "<div>\n<style scoped>\n    .dataframe tbody tr th:only-of-type {\n        vertical-align: middle;\n    }\n\n    .dataframe tbody tr th {\n        vertical-align: top;\n    }\n\n    .dataframe thead th {\n        text-align: right;\n    }\n</style>\n<table border=\"1\" class=\"dataframe\">\n  <thead>\n    <tr style=\"text-align: right;\">\n      <th></th>\n      <th>id</th>\n      <th>region</th>\n      <th>price</th>\n      <th>year</th>\n      <th>manufacturer</th>\n      <th>model</th>\n      <th>condition</th>\n      <th>cylinders</th>\n      <th>fuel</th>\n      <th>odometer</th>\n      <th>title_status</th>\n      <th>transmission</th>\n      <th>VIN</th>\n      <th>drive</th>\n      <th>size</th>\n      <th>type</th>\n      <th>paint_color</th>\n      <th>state</th>\n    </tr>\n  </thead>\n  <tbody>\n    <tr>\n      <th>27</th>\n      <td>7316814884</td>\n      <td>auburn</td>\n      <td>33590</td>\n      <td>2014.0</td>\n      <td>gmc</td>\n      <td>sierra 1500 crew cab slt</td>\n      <td>good</td>\n      <td>8 cylinders</td>\n      <td>gas</td>\n      <td>57923.0</td>\n      <td>clean</td>\n      <td>other</td>\n      <td>3GTP1VEC4EG551563</td>\n      <td>NaN</td>\n      <td>NaN</td>\n      <td>pickup</td>\n      <td>white</td>\n      <td>al</td>\n    </tr>\n    <tr>\n      <th>28</th>\n      <td>7316814758</td>\n      <td>auburn</td>\n      <td>22590</td>\n      <td>2010.0</td>\n      <td>chevrolet</td>\n      <td>silverado 1500</td>\n      <td>good</td>\n      <td>8 cylinders</td>\n      <td>gas</td>\n      <td>71229.0</td>\n      <td>clean</td>\n      <td>other</td>\n      <td>1GCSCSE06AZ123805</td>\n      <td>NaN</td>\n      <td>NaN</td>\n      <td>pickup</td>\n      <td>blue</td>\n      <td>al</td>\n    </tr>\n    <tr>\n      <th>29</th>\n      <td>7316814989</td>\n      <td>auburn</td>\n      <td>39590</td>\n      <td>2020.0</td>\n      <td>chevrolet</td>\n      <td>silverado 1500 crew</td>\n      <td>good</td>\n      <td>8 cylinders</td>\n      <td>gas</td>\n      <td>19160.0</td>\n      <td>clean</td>\n      <td>other</td>\n      <td>3GCPWCED5LG130317</td>\n      <td>NaN</td>\n      <td>NaN</td>\n      <td>pickup</td>\n      <td>red</td>\n      <td>al</td>\n    </tr>\n    <tr>\n      <th>30</th>\n      <td>7316743432</td>\n      <td>auburn</td>\n      <td>30990</td>\n      <td>2017.0</td>\n      <td>toyota</td>\n      <td>tundra double cab sr</td>\n      <td>good</td>\n      <td>8 cylinders</td>\n      <td>gas</td>\n      <td>41124.0</td>\n      <td>clean</td>\n      <td>other</td>\n      <td>5TFRM5F17HX120972</td>\n      <td>NaN</td>\n      <td>NaN</td>\n      <td>pickup</td>\n      <td>red</td>\n      <td>al</td>\n    </tr>\n    <tr>\n      <th>31</th>\n      <td>7316356412</td>\n      <td>auburn</td>\n      <td>15000</td>\n      <td>2013.0</td>\n      <td>ford</td>\n      <td>f-150 xlt</td>\n      <td>excellent</td>\n      <td>6 cylinders</td>\n      <td>gas</td>\n      <td>128000.0</td>\n      <td>clean</td>\n      <td>automatic</td>\n      <td>NaN</td>\n      <td>rwd</td>\n      <td>full-size</td>\n      <td>truck</td>\n      <td>black</td>\n      <td>al</td>\n    </tr>\n    <tr>\n      <th>...</th>\n      <td>...</td>\n      <td>...</td>\n      <td>...</td>\n      <td>...</td>\n      <td>...</td>\n      <td>...</td>\n      <td>...</td>\n      <td>...</td>\n      <td>...</td>\n      <td>...</td>\n      <td>...</td>\n      <td>...</td>\n      <td>...</td>\n      <td>...</td>\n      <td>...</td>\n      <td>...</td>\n      <td>...</td>\n      <td>...</td>\n    </tr>\n    <tr>\n      <th>426875</th>\n      <td>7301591192</td>\n      <td>wyoming</td>\n      <td>23590</td>\n      <td>2019.0</td>\n      <td>nissan</td>\n      <td>maxima s sedan 4d</td>\n      <td>good</td>\n      <td>6 cylinders</td>\n      <td>gas</td>\n      <td>32226.0</td>\n      <td>clean</td>\n      <td>other</td>\n      <td>1N4AA6AV6KC367801</td>\n      <td>fwd</td>\n      <td>NaN</td>\n      <td>sedan</td>\n      <td>NaN</td>\n      <td>wy</td>\n    </tr>\n    <tr>\n      <th>426876</th>\n      <td>7301591187</td>\n      <td>wyoming</td>\n      <td>30590</td>\n      <td>2020.0</td>\n      <td>volvo</td>\n      <td>s60 t5 momentum sedan 4d</td>\n      <td>good</td>\n      <td>NaN</td>\n      <td>gas</td>\n      <td>12029.0</td>\n      <td>clean</td>\n      <td>other</td>\n      <td>7JR102FKXLG042696</td>\n      <td>fwd</td>\n      <td>NaN</td>\n      <td>sedan</td>\n      <td>red</td>\n      <td>wy</td>\n    </tr>\n    <tr>\n      <th>426877</th>\n      <td>7301591147</td>\n      <td>wyoming</td>\n      <td>34990</td>\n      <td>2020.0</td>\n      <td>cadillac</td>\n      <td>xt4 sport suv 4d</td>\n      <td>good</td>\n      <td>NaN</td>\n      <td>diesel</td>\n      <td>4174.0</td>\n      <td>clean</td>\n      <td>other</td>\n      <td>1GYFZFR46LF088296</td>\n      <td>NaN</td>\n      <td>NaN</td>\n      <td>hatchback</td>\n      <td>white</td>\n      <td>wy</td>\n    </tr>\n    <tr>\n      <th>426878</th>\n      <td>7301591140</td>\n      <td>wyoming</td>\n      <td>28990</td>\n      <td>2018.0</td>\n      <td>lexus</td>\n      <td>es 350 sedan 4d</td>\n      <td>good</td>\n      <td>6 cylinders</td>\n      <td>gas</td>\n      <td>30112.0</td>\n      <td>clean</td>\n      <td>other</td>\n      <td>58ABK1GG4JU103853</td>\n      <td>fwd</td>\n      <td>NaN</td>\n      <td>sedan</td>\n      <td>silver</td>\n      <td>wy</td>\n    </tr>\n    <tr>\n      <th>426879</th>\n      <td>7301591129</td>\n      <td>wyoming</td>\n      <td>30590</td>\n      <td>2019.0</td>\n      <td>bmw</td>\n      <td>4 series 430i gran coupe</td>\n      <td>good</td>\n      <td>NaN</td>\n      <td>gas</td>\n      <td>22716.0</td>\n      <td>clean</td>\n      <td>other</td>\n      <td>WBA4J1C58KBM14708</td>\n      <td>rwd</td>\n      <td>NaN</td>\n      <td>coupe</td>\n      <td>NaN</td>\n      <td>wy</td>\n    </tr>\n  </tbody>\n</table>\n<p>228547 rows × 18 columns</p>\n</div>"
     },
     "execution_count": 45,
     "metadata": {},
     "output_type": "execute_result"
    }
   ],
   "source": [
    "zero_price_values = data[data[\"price\"] <= 0][\"price\"]\n",
    "data = data.drop(zero_price_values.index)\n",
    "data"
   ]
  },
  {
   "cell_type": "code",
   "execution_count": 46,
   "metadata": {},
   "outputs": [],
   "source": [
    "high_price_values = data[data[\"price\"] >= 500000][\"price\"]\n",
    "data = data.drop(high_price_values.index)"
   ]
  },
  {
   "cell_type": "code",
   "execution_count": 47,
   "metadata": {},
   "outputs": [],
   "source": [
    "data.drop(columns=[\"VIN\"], inplace=True)"
   ]
  },
  {
   "cell_type": "markdown",
   "metadata": {},
   "source": [
    "### Modeling\n",
    "\n",
    "With your (almost?) final dataset in hand, it is now time to build some models.  Here, you should build a number of different regression models with the price as the target.  In building your models, you should explore different parameters and be sure to cross-validate your findings."
   ]
  },
  {
   "cell_type": "code",
   "execution_count": null,
   "metadata": {},
   "outputs": [],
   "source": []
  },
  {
   "cell_type": "code",
   "execution_count": null,
   "metadata": {},
   "outputs": [],
   "source": []
  },
  {
   "cell_type": "code",
   "execution_count": null,
   "metadata": {},
   "outputs": [],
   "source": []
  },
  {
   "cell_type": "code",
   "execution_count": null,
   "metadata": {},
   "outputs": [],
   "source": []
  },
  {
   "cell_type": "markdown",
   "metadata": {},
   "source": [
    "### Evaluation\n",
    "\n",
    "With some modeling accomplished, we aim to reflect on what we identify as a high-quality model and what we are able to learn from this.  We should review our business objective and explore how well we can provide meaningful insight into drivers of used car prices.  Your goal now is to distill your findings and determine whether the earlier phases need revisitation and adjustment or if you have information of value to bring back to your client."
   ]
  },
  {
   "cell_type": "code",
   "execution_count": null,
   "metadata": {},
   "outputs": [],
   "source": []
  },
  {
   "cell_type": "code",
   "execution_count": null,
   "metadata": {},
   "outputs": [],
   "source": []
  },
  {
   "cell_type": "code",
   "execution_count": null,
   "metadata": {},
   "outputs": [],
   "source": []
  },
  {
   "cell_type": "code",
   "execution_count": null,
   "metadata": {},
   "outputs": [],
   "source": []
  },
  {
   "cell_type": "code",
   "execution_count": null,
   "metadata": {},
   "outputs": [],
   "source": []
  },
  {
   "cell_type": "code",
   "execution_count": null,
   "metadata": {},
   "outputs": [],
   "source": []
  },
  {
   "cell_type": "markdown",
   "metadata": {},
   "source": [
    "### Deployment\n",
    "\n",
    "Now that we've settled on our models and findings, it is time to deliver the information to the client.  You should organize your work as a basic report that details your primary findings.  Keep in mind that your audience is a group of used car dealers interested in fine-tuning their inventory."
   ]
  },
  {
   "cell_type": "code",
   "execution_count": null,
   "metadata": {},
   "outputs": [],
   "source": []
  },
  {
   "cell_type": "code",
   "execution_count": null,
   "metadata": {},
   "outputs": [],
   "source": []
  },
  {
   "cell_type": "code",
   "execution_count": null,
   "metadata": {},
   "outputs": [],
   "source": []
  },
  {
   "cell_type": "code",
   "execution_count": null,
   "metadata": {},
   "outputs": [],
   "source": []
  },
  {
   "cell_type": "code",
   "execution_count": null,
   "metadata": {},
   "outputs": [],
   "source": []
  },
  {
   "cell_type": "code",
   "execution_count": null,
   "metadata": {},
   "outputs": [],
   "source": []
  },
  {
   "cell_type": "code",
   "execution_count": null,
   "metadata": {},
   "outputs": [],
   "source": []
  },
  {
   "cell_type": "code",
   "execution_count": null,
   "outputs": [],
   "source": [],
   "metadata": {
    "collapsed": false
   }
  }
 ],
 "metadata": {
  "kernelspec": {
   "display_name": "Python 3",
   "language": "python",
   "name": "python3"
  },
  "language_info": {
   "codemirror_mode": {
    "name": "ipython",
    "version": 3
   },
   "file_extension": ".py",
   "mimetype": "text/x-python",
   "name": "python",
   "nbconvert_exporter": "python",
   "pygments_lexer": "ipython3",
   "version": "3.8.8"
  },
  "widgets": {
   "application/vnd.jupyter.widget-state+json": {
    "state": {},
    "version_major": 2,
    "version_minor": 0
   }
  }
 },
 "nbformat": 4,
 "nbformat_minor": 4
}
